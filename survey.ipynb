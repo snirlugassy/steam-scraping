{
  "cells": [
    {
      "cell_type": "code",
      "execution_count": 45,
      "metadata": {
        "id": "f22SY19ExCqL"
      },
      "outputs": [],
      "source": [
        "import json\n",
        "import re\n",
        "from collections import defaultdict\n",
        "import pandas as pd\n",
        "import numpy as np\n",
        "import matplotlib.pyplot as plt"
      ]
    },
    {
      "cell_type": "code",
      "execution_count": 54,
      "metadata": {
        "colab": {
          "base_uri": "https://localhost:8080/",
          "height": 384
        },
        "id": "pmUPru3RxSOU",
        "outputId": "6490d160-75be-4388-e769-768726f27c2b"
      },
      "outputs": [
        {
          "data": {
            "text/html": [
              "<div>\n",
              "<style scoped>\n",
              "    .dataframe tbody tr th:only-of-type {\n",
              "        vertical-align: middle;\n",
              "    }\n",
              "\n",
              "    .dataframe tbody tr th {\n",
              "        vertical-align: top;\n",
              "    }\n",
              "\n",
              "    .dataframe thead th {\n",
              "        text-align: right;\n",
              "    }\n",
              "</style>\n",
              "<table border=\"1\" class=\"dataframe\">\n",
              "  <thead>\n",
              "    <tr style=\"text-align: right;\">\n",
              "      <th></th>\n",
              "      <th>submit_date</th>\n",
              "      <th>consent</th>\n",
              "      <th>age</th>\n",
              "      <th>gender</th>\n",
              "      <th>rel_status</th>\n",
              "      <th>video_games_in_free_time</th>\n",
              "      <th>first_video_game</th>\n",
              "      <th>play_regularly</th>\n",
              "      <th>avg_play_time_weekly</th>\n",
              "      <th>games_relieve_stress</th>\n",
              "      <th>...</th>\n",
              "      <th>hunt_showdown_answer</th>\n",
              "      <th>blue_reflection_answer</th>\n",
              "      <th>a_way_out_answer</th>\n",
              "      <th>russian_fishing_4_answer</th>\n",
              "      <th>the_sims_4_answer</th>\n",
              "      <th>fall_guys_answer</th>\n",
              "      <th>rust_answer</th>\n",
              "      <th>dead_by_daylight_answer</th>\n",
              "      <th>terraria_answer</th>\n",
              "      <th>metro_exodus_answer</th>\n",
              "    </tr>\n",
              "  </thead>\n",
              "  <tbody>\n",
              "    <tr>\n",
              "      <th>0</th>\n",
              "      <td>2022/01/07 17:34:33</td>\n",
              "      <td>I have read the above disclaimer and agree to ...</td>\n",
              "      <td>24.0</td>\n",
              "      <td>Male</td>\n",
              "      <td>Other / Prefer not to disclose</td>\n",
              "      <td>1</td>\n",
              "      <td>9-13</td>\n",
              "      <td>No</td>\n",
              "      <td>0-4 Hours</td>\n",
              "      <td>Yes</td>\n",
              "      <td>...</td>\n",
              "      <td>No</td>\n",
              "      <td>Yes</td>\n",
              "      <td>No</td>\n",
              "      <td>Yes</td>\n",
              "      <td>Yes</td>\n",
              "      <td>No</td>\n",
              "      <td>No</td>\n",
              "      <td>No</td>\n",
              "      <td>No</td>\n",
              "      <td>No</td>\n",
              "    </tr>\n",
              "    <tr>\n",
              "      <th>1</th>\n",
              "      <td>2022/01/07 17:31:18</td>\n",
              "      <td>I have read the above disclaimer and agree to ...</td>\n",
              "      <td>24.0</td>\n",
              "      <td>Male</td>\n",
              "      <td>Single</td>\n",
              "      <td>1</td>\n",
              "      <td>9-13</td>\n",
              "      <td>No</td>\n",
              "      <td>0-4 Hours</td>\n",
              "      <td>Yes</td>\n",
              "      <td>...</td>\n",
              "      <td>No</td>\n",
              "      <td>No</td>\n",
              "      <td>No</td>\n",
              "      <td>No</td>\n",
              "      <td>No</td>\n",
              "      <td>No</td>\n",
              "      <td>Yes</td>\n",
              "      <td>No</td>\n",
              "      <td>No</td>\n",
              "      <td>No</td>\n",
              "    </tr>\n",
              "  </tbody>\n",
              "</table>\n",
              "<p>2 rows × 26 columns</p>\n",
              "</div>"
            ],
            "text/plain": [
              "           submit_date                                            consent  \\\n",
              "0  2022/01/07 17:34:33  I have read the above disclaimer and agree to ...   \n",
              "1  2022/01/07 17:31:18  I have read the above disclaimer and agree to ...   \n",
              "\n",
              "    age gender                      rel_status  video_games_in_free_time  \\\n",
              "0  24.0   Male  Other / Prefer not to disclose                         1   \n",
              "1  24.0   Male                          Single                         1   \n",
              "\n",
              "  first_video_game play_regularly avg_play_time_weekly games_relieve_stress  \\\n",
              "0             9-13             No            0-4 Hours                  Yes   \n",
              "1             9-13             No            0-4 Hours                  Yes   \n",
              "\n",
              "   ...  hunt_showdown_answer blue_reflection_answer a_way_out_answer  \\\n",
              "0  ...                    No                    Yes               No   \n",
              "1  ...                    No                     No               No   \n",
              "\n",
              "  russian_fishing_4_answer the_sims_4_answer fall_guys_answer rust_answer  \\\n",
              "0                      Yes               Yes               No          No   \n",
              "1                       No                No               No         Yes   \n",
              "\n",
              "  dead_by_daylight_answer terraria_answer metro_exodus_answer  \n",
              "0                      No              No                  No  \n",
              "1                      No              No                  No  \n",
              "\n",
              "[2 rows x 26 columns]"
            ]
          },
          "execution_count": 54,
          "metadata": {},
          "output_type": "execute_result"
        }
      ],
      "source": [
        "games = json.load(open('data.json', 'r'))\n",
        "data = pd.read_csv('survey_results.csv')\n",
        "\n",
        "data.rename(columns={\n",
        "    'Submission Date': 'submit_date', \n",
        "    'No Label': 'consent', \n",
        "    'Age': 'age', \n",
        "    'Gender': 'gender', \n",
        "    'Relationship status': 'rel_status',\n",
        "    '\"Video games are a good way to spend your free time\"': 'video_games_in_free_time',\n",
        "    'At what age did you own your first video game?': 'first_video_game',\n",
        "    'Do you play video games regularly?': 'play_regularly',\n",
        "    'If so, how much time on average do you play each week?': 'avg_play_time_weekly',\n",
        "    'Do you think that video games are a good way to relieve stress?': 'games_relieve_stress',\n",
        "    'How do video games affect a child\\'s development?': 'games_affect_child_dev',\n",
        "    'Mount & Blade II: Would you play this game to relax?': 'mount_blade_2_answer',\n",
        "    'TEKKEN 7: Would you play this game to relax?': 'tekken_7_answer',\n",
        "    'Muse Dash: Would you play this game to relax?': 'muse_dash_answer',\n",
        "    'NBA 2K22: Would you play this game to relax?': 'nba_2k22_answer',\n",
        "    'Shadowverse CCG: Would you play this game to relax?': 'shadowverse_ccg_answer',\n",
        "    'Hunt: Showdown: Would you play this game to relax?': 'hunt_showdown_answer',\n",
        "    'BLUE REFLECTION: Would you play this game to relax?': 'blue_reflection_answer',\n",
        "    'A Way Out: Would you play this game to relax?': 'a_way_out_answer',\n",
        "    'Russian Fishing 4: Would you play this game to relax?': 'russian_fishing_4_answer',\n",
        "    'The Sims 4: Would you play this game to relax?': 'the_sims_4_answer',\n",
        "    'Fall Guys: Would you play this game to relax?': 'fall_guys_answer',\n",
        "    'Rust: Would you play this game to relax?': 'rust_answer',\n",
        "    'Dead by Daylight: Would you play this game to relax?': 'dead_by_daylight_answer',\n",
        "    'Terraria: Would you play this game to relax?': 'terraria_answer',\n",
        "    'Metro Exodus: Would you play this game to relax?': 'metro_exodus_answer'\n",
        "}, inplace=True)\n",
        "\n",
        "data.head(2)"
      ]
    },
    {
      "cell_type": "code",
      "execution_count": 3,
      "metadata": {
        "id": "XcrlqAeb92aC"
      },
      "outputs": [],
      "source": [
        "_game_name = {\n",
        "    'mount_blade_2': 'Mount & Blade II: Bannerlord',\n",
        "    'tekken_7': 'TEKKEN 7',\n",
        "    'muse_dash': 'Muse Dash',\n",
        "    'nba_2k22': 'NBA 2K22',\n",
        "    'shadowverse_ccg': 'Shadowverse CCG',\n",
        "    'hunt_showdown': 'Hunt: Showdown',\n",
        "    'blue_reflection': 'BLUE REFLECTION: Second Light',\n",
        "    'a_way_out': 'A Way Out',\n",
        "    'russian_fishing_4': 'Russian Fishing 4',\n",
        "    'the_sims_4': 'The Sims 4',\n",
        "    'fall_guys': 'Fall Guys: Ultimate Knockout',\n",
        "    'rust': 'Rust',\n",
        "    'dead_by_daylight': 'Dead by Daylight',\n",
        "    'terraria': 'Terraria',\n",
        "    'metro_exodus': 'Metro Exodus'\n",
        "}\n",
        "\n",
        "game_mapping = {}\n",
        "for k,g in _game_name.items():\n",
        "    game_mapping[k] = [x for x in games if x['game']['title'].lower() == g.lower()][0]"
      ]
    },
    {
      "cell_type": "code",
      "execution_count": 4,
      "metadata": {
        "colab": {
          "base_uri": "https://localhost:8080/",
          "height": 295
        },
        "id": "06l51LfQxSTU",
        "outputId": "5a0745cc-0758-4753-8e50-c0306b460a78"
      },
      "outputs": [
        {
          "data": {
            "image/png": "[encoded data removed]",
            "text/plain": [
              "<Figure size 432x288 with 1 Axes>"
            ]
          },
          "metadata": {
            "needs_background": "light"
          },
          "output_type": "display_data"
        }
      ],
      "source": [
        "plt.figure()\n",
        "plt.title('Age Histogram')\n",
        "plt.hist(data.age, bins=5)\n",
        "plt.xlabel('Age')\n",
        "plt.show()"
      ]
    },
    {
      "cell_type": "code",
      "execution_count": 5,
      "metadata": {
        "colab": {
          "base_uri": "https://localhost:8080/",
          "height": 281
        },
        "id": "7L0pzVU3xSVy",
        "outputId": "ca1006ab-cb14-403e-dbf0-c291d567888d"
      },
      "outputs": [
        {
          "data": {
            "image/png": "[encoded data removed]",
            "text/plain": [
              "<Figure size 432x288 with 1 Axes>"
            ]
          },
          "metadata": {
            "needs_background": "light"
          },
          "output_type": "display_data"
        }
      ],
      "source": [
        "genders = data.gender.value_counts().to_dict()\n",
        "plt.figure()\n",
        "plt.title(\"Genders\")\n",
        "plt.yticks(range(0,22,2))\n",
        "plt.bar(genders.keys(), genders.values())\n",
        "plt.show()"
      ]
    },
    {
      "cell_type": "code",
      "execution_count": 6,
      "metadata": {
        "colab": {
          "base_uri": "https://localhost:8080/",
          "height": 281
        },
        "id": "vv2r7Nl81J94",
        "outputId": "9a85c089-aff8-4518-963a-c50e93b25271"
      },
      "outputs": [
        {
          "data": {
            "image/png": "[encoded data removed]",
            "text/plain": [
              "<Figure size 432x288 with 1 Axes>"
            ]
          },
          "metadata": {
            "needs_background": "light"
          },
          "output_type": "display_data"
        }
      ],
      "source": [
        "relationship_status = data.rel_status.value_counts().to_dict()\n",
        "plt.figure()\n",
        "plt.title(\"Relationship Status\")\n",
        "plt.bar(relationship_status.keys(), relationship_status.values())\n",
        "plt.show()"
      ]
    },
    {
      "cell_type": "code",
      "execution_count": 7,
      "metadata": {
        "colab": {
          "base_uri": "https://localhost:8080/",
          "height": 295
        },
        "id": "xx72f0Sh1kcT",
        "outputId": "478ca1f7-4baf-4b9a-9b04-69b0aaa04211"
      },
      "outputs": [
        {
          "data": {
            "image/png": "[encoded data removed]",
            "text/plain": [
              "<Figure size 432x288 with 1 Axes>"
            ]
          },
          "metadata": {
            "needs_background": "light"
          },
          "output_type": "display_data"
        }
      ],
      "source": [
        "video_games_in_free_time = data.video_games_in_free_time.value_counts().to_dict()\n",
        "plt.figure()\n",
        "plt.title(\"Video games are a good way to spend your free time?\")\n",
        "plt.xticks([-2,-1,0,1,2])\n",
        "plt.xlabel('-2=Strongly Disagee, 2=Strongly Agree')\n",
        "plt.bar(video_games_in_free_time.keys(), video_games_in_free_time.values())\n",
        "plt.show()"
      ]
    },
    {
      "cell_type": "code",
      "execution_count": 8,
      "metadata": {
        "colab": {
          "base_uri": "https://localhost:8080/",
          "height": 295
        },
        "id": "KUQnX3cC4t77",
        "outputId": "bf565432-d493-44a3-993b-2e746fcf47bc"
      },
      "outputs": [
        {
          "data": {
            "image/png": "[encoded data removed]",
            "text/plain": [
              "<Figure size 432x288 with 1 Axes>"
            ]
          },
          "metadata": {
            "needs_background": "light"
          },
          "output_type": "display_data"
        }
      ],
      "source": [
        "first_video_game_age_range = sorted(data.first_video_game, key=lambda x: int(re.match('\\d+',x).group(0)))\n",
        "plt.figure()\n",
        "plt.title(\"At what age did you own your first video game?\")\n",
        "plt.xlabel('Age')\n",
        "plt.hist(first_video_game_age_range)\n",
        "plt.show()"
      ]
    },
    {
      "cell_type": "code",
      "execution_count": 9,
      "metadata": {
        "id": "Dh4YTO1h4uEc"
      },
      "outputs": [
        {
          "data": {
            "image/png": "[encoded data removed]",
            "text/plain": [
              "<Figure size 432x288 with 1 Axes>"
            ]
          },
          "metadata": {
            "needs_background": "light"
          },
          "output_type": "display_data"
        }
      ],
      "source": [
        "play_video_games = data.video_games_in_free_time.value_counts().to_dict()\n",
        "plt.figure()\n",
        "plt.title(\"Video games are a good way to spend your free time?\")\n",
        "plt.xticks([-2,-1,0,1,2])\n",
        "plt.bar(play_video_games.keys(), play_video_games.values())\n",
        "plt.show()"
      ]
    },
    {
      "cell_type": "code",
      "execution_count": 10,
      "metadata": {
        "colab": {
          "base_uri": "https://localhost:8080/",
          "height": 281
        },
        "id": "2ylmENTQ4PvB",
        "outputId": "c51d41d8-22a8-45f1-dfa3-a3dd29382060"
      },
      "outputs": [
        {
          "data": {
            "image/png": "[encoded data removed]",
            "text/plain": [
              "<Figure size 432x288 with 1 Axes>"
            ]
          },
          "metadata": {
            "needs_background": "light"
          },
          "output_type": "display_data"
        }
      ],
      "source": [
        "play_regularly = data.play_regularly.value_counts().to_dict()\n",
        "plt.figure()\n",
        "plt.title(\"Do you play video games regularly?\")\n",
        "plt.yticks(range(0,22,2))\n",
        "plt.bar(play_regularly.keys(), play_regularly.values())\n",
        "plt.show()"
      ]
    },
    {
      "cell_type": "code",
      "execution_count": 11,
      "metadata": {
        "colab": {
          "base_uri": "https://localhost:8080/",
          "height": 281
        },
        "id": "qR0vt7NX6IYM",
        "outputId": "b20ef2d8-e63f-48df-b2f0-b5b188e068b5"
      },
      "outputs": [
        {
          "data": {
            "image/png": "[encoded data removed]",
            "text/plain": [
              "<Figure size 432x288 with 1 Axes>"
            ]
          },
          "metadata": {
            "needs_background": "light"
          },
          "output_type": "display_data"
        }
      ],
      "source": [
        "avg_play_time_weekly = sorted(data.avg_play_time_weekly.dropna(), key=lambda x: int(re.match('\\d+',x).group(0)))\n",
        "plt.figure()\n",
        "plt.title(\"If so, how much time on average do you play each week?\")\n",
        "plt.hist(avg_play_time_weekly)\n",
        "plt.show()"
      ]
    },
    {
      "cell_type": "code",
      "execution_count": 12,
      "metadata": {
        "colab": {
          "base_uri": "https://localhost:8080/",
          "height": 281
        },
        "id": "6Kgdj3Vx7BZL",
        "outputId": "97199802-9f15-4730-d70f-a05fbfbd5463"
      },
      "outputs": [
        {
          "data": {
            "image/png": "[encoded data removed]",
            "text/plain": [
              "<Figure size 432x288 with 1 Axes>"
            ]
          },
          "metadata": {
            "needs_background": "light"
          },
          "output_type": "display_data"
        }
      ],
      "source": [
        "games_relieve_stress = data.games_relieve_stress.value_counts().to_dict()\n",
        "plt.figure()\n",
        "plt.title(\"Do you think that video games are a good way to relieve stress?\")\n",
        "plt.yticks(range(0,22,2))\n",
        "plt.bar(games_relieve_stress.keys(), games_relieve_stress.values())\n",
        "plt.show()"
      ]
    },
    {
      "cell_type": "code",
      "execution_count": 13,
      "metadata": {
        "colab": {
          "base_uri": "https://localhost:8080/",
          "height": 295
        },
        "id": "C54mlvgg7Bet",
        "outputId": "747993b7-f96b-4976-cebb-dc06896e068b"
      },
      "outputs": [
        {
          "data": {
            "image/png": "[encoded data removed]",
            "text/plain": [
              "<Figure size 432x288 with 1 Axes>"
            ]
          },
          "metadata": {
            "needs_background": "light"
          },
          "output_type": "display_data"
        }
      ],
      "source": [
        "games_affect_child_dev = data.games_affect_child_dev.value_counts().to_dict()\n",
        "plt.figure()\n",
        "plt.title(\"How do video games affect a child's development?\")\n",
        "plt.xticks([1,2,3,4,5])\n",
        "plt.xlabel('1=Harm, 5=Contribute')\n",
        "plt.bar(games_affect_child_dev.keys(), games_affect_child_dev.values())\n",
        "plt.show()"
      ]
    },
    {
      "cell_type": "code",
      "execution_count": 14,
      "metadata": {
        "id": "_zZLkKXSDcSE"
      },
      "outputs": [],
      "source": [
        "def extract_price(price_text):\n",
        "    try:\n",
        "        return int(re.search(r'([0-9,]+)', price_text).group(1).replace(',',''))\n",
        "    except:\n",
        "        return 0\n",
        "\n",
        "for g in games:\n",
        "    g['multiplayer'] = int('Multiplayer' in g['game']['tags'])\n",
        "    g['online_pvp'] = int('Online PvP' in g['game']['features'])\n",
        "    g['price'] = extract_price(g['game']['price'])\n",
        "    g['mean_hrs_on_record'] = np.mean([r['hrs_on_record'] for r in g['reviews']])\n",
        "    g['mean_review_rewards'] = np.mean([r['rewards'] for r in g['reviews']])\n",
        "    g['mean_recommendations'] = np.mean([r['recommendation'] == 'Recommended' for r in g['reviews']])\n",
        "    g['mean_review_length'] = np.mean([len(r['text']) for r in g['reviews']])\n"
      ]
    },
    {
      "cell_type": "code",
      "execution_count": 15,
      "metadata": {
        "colab": {
          "base_uri": "https://localhost:8080/"
        },
        "id": "dd7TGqGR7BiC",
        "outputId": "b6538bf6-defb-4a45-d1ea-55966dc181dd"
      },
      "outputs": [
        {
          "data": {
            "text/plain": [
              "{'mount_blade_2': 0.5454545454545454,\n",
              " 'tekken_7': 0.36363636363636365,\n",
              " 'muse_dash': 0.2727272727272727,\n",
              " 'nba_2k22': 0.6363636363636364,\n",
              " 'shadowverse_ccg': 0.22727272727272727,\n",
              " 'hunt_showdown': 0.2727272727272727,\n",
              " 'blue_reflection': 0.45454545454545453,\n",
              " 'a_way_out': 0.45454545454545453,\n",
              " 'russian_fishing_4': 0.6818181818181818,\n",
              " 'the_sims_4': 0.6363636363636364,\n",
              " 'fall_guys': 0.5909090909090909,\n",
              " 'rust': 0.4090909090909091,\n",
              " 'dead_by_daylight': 0.09090909090909091,\n",
              " 'terraria': 0.7727272727272727,\n",
              " 'metro_exodus': 0.36363636363636365}"
            ]
          },
          "execution_count": 15,
          "metadata": {},
          "output_type": "execute_result"
        }
      ],
      "source": [
        "data.replace('Yes', True, inplace=True)\n",
        "data.replace('No', False, inplace=True)\n",
        "\n",
        "avg_relaxing = {}\n",
        "for g in game_mapping:\n",
        "    avg_relaxing[g] = data[g + \"_answer\"].mean()\n",
        "avg_relaxing"
      ]
    },
    {
      "cell_type": "code",
      "execution_count": 16,
      "metadata": {
        "colab": {
          "base_uri": "https://localhost:8080/",
          "height": 265
        },
        "id": "25EdnABZCAC_",
        "outputId": "cfd19797-9c30-4885-f13a-899792ed96f7"
      },
      "outputs": [
        {
          "data": {
            "image/png": "[encoded data removed]",
            "text/plain": [
              "<Figure size 432x288 with 1 Axes>"
            ]
          },
          "metadata": {
            "needs_background": "light"
          },
          "output_type": "display_data"
        }
      ],
      "source": [
        "X = [(avg_relaxing[g], game_mapping[g]['game']['review_count']) for g in avg_relaxing]\n",
        "x,y = zip(*X)\n",
        "\n",
        "plt.figure()\n",
        "plt.scatter(x, y)\n",
        "plt.show()"
      ]
    },
    {
      "cell_type": "code",
      "execution_count": 17,
      "metadata": {
        "colab": {
          "base_uri": "https://localhost:8080/",
          "height": 279
        },
        "id": "ncVt62aJDDBs",
        "outputId": "ce73b19c-e9d4-478a-80e8-12c8dfa9506b"
      },
      "outputs": [
        {
          "data": {
            "image/png": "[encoded data removed]",
            "text/plain": [
              "<Figure size 432x288 with 1 Axes>"
            ]
          },
          "metadata": {
            "needs_background": "light"
          },
          "output_type": "display_data"
        }
      ],
      "source": [
        "tag = 'Action'\n",
        "X = [(avg_relaxing[g], tag in game_mapping[g]['game']['tags']) for g in avg_relaxing]\n",
        "x,y = zip(*X)\n",
        "\n",
        "plt.figure()\n",
        "plt.scatter(x, y)\n",
        "plt.yticks(ticks=[0,1], labels=['Not ' + tag, tag])\n",
        "plt.ylim([-0.5,1.5])\n",
        "plt.xlabel('Avg. Play to Relax')\n",
        "plt.show()"
      ]
    },
    {
      "cell_type": "code",
      "execution_count": 18,
      "metadata": {
        "colab": {
          "base_uri": "https://localhost:8080/",
          "height": 279
        },
        "id": "6ro58SWnJWQw",
        "outputId": "070fac14-69da-4468-ad51-2b926dbba545"
      },
      "outputs": [
        {
          "data": {
            "image/png": "[encoded data removed]",
            "text/plain": [
              "<Figure size 432x288 with 1 Axes>"
            ]
          },
          "metadata": {
            "needs_background": "light"
          },
          "output_type": "display_data"
        }
      ],
      "source": [
        "tag = 'Survival'\n",
        "X = [(avg_relaxing[g], tag in game_mapping[g]['game']['tags']) for g in avg_relaxing]\n",
        "x,y = zip(*X)\n",
        "\n",
        "plt.figure()\n",
        "plt.scatter(x, y)\n",
        "plt.yticks(ticks=[0,1], labels=['Not ' + tag, tag])\n",
        "plt.ylim([-0.5,1.5])\n",
        "plt.xlabel('Avg. Play to Relax')\n",
        "plt.show()"
      ]
    },
    {
      "cell_type": "code",
      "execution_count": 19,
      "metadata": {
        "colab": {
          "base_uri": "https://localhost:8080/"
        },
        "id": "dxHwKtJAJNgq",
        "outputId": "b2bdb5a8-4076-49da-e227-a399fbe696f0"
      },
      "outputs": [
        {
          "name": "stdout",
          "output_type": "stream",
          "text": [
            "['Medieval', 'Strategy', 'Open World', 'RPG', 'War', 'Multiplayer', 'Sandbox', 'Singleplayer', 'Action', 'Simulation', 'Moddable']\n",
            "['Fighting', 'Action', 'Multiplayer', 'Competitive', 'Arcade', 'Local Multiplayer', 'Controller', 'Great Soundtrack', 'Sports', 'eSports']\n",
            "['Music', 'Rhythm', 'Anime', 'Cute', 'Casual', 'Female Protagonist', 'Great Soundtrack', 'Sexual Content', 'Singleplayer', 'Indie']\n",
            "['Sports', 'Basketball', 'Simulation', 'eSports', 'Realistic', 'Multiplayer', '3D', 'Singleplayer', 'Team-Based', 'Management', 'Trading']\n",
            "['Free to Play', 'Card Battler', 'Trading Card Game', 'Deckbuilding', 'Card Game', 'Anime', 'Strategy', 'Multiplayer', 'Fantasy']\n",
            "['Multiplayer', 'Hunting', 'FPS', 'Dark', 'Battle Royale', 'Perma Death', 'Western', 'Shooter', 'Survival', 'Zombies', 'Horror', 'PvP']\n",
            "['RPG', 'Anime', 'Female Protagonist', 'Sexual Content', 'JRPG', 'Mature', 'Singleplayer', 'Nudity', 'LGBTQ+', 'Dating Sim']\n",
            "['Co-op', 'Online Co-Op', 'Split Screen', 'Story Rich', 'Local Co-Op', 'Action-Adventure', 'Action', 'Third Person', 'Crime', 'Violent']\n",
            "['Free to Play', 'Multiplayer', 'Fishing', 'Simulation', 'Open World', 'Survival', 'Massively Multiplayer', 'Psychological Horror', 'Realistic']\n",
            "['Life Sim', 'Character Customization', 'Building', 'Simulation', 'Sexual Content', 'Casual', 'Singleplayer', 'Relaxing', 'Romance']\n",
            "['Multiplayer', 'Party Game', 'Battle Royale', 'Family Friendly', 'Massively Multiplayer', 'Platformer', 'PvP', 'Funny', 'Cute', 'Action']\n",
            "['Survival', 'Crafting', 'Multiplayer', 'Open World', 'Open World Survival Craft', 'Building', 'Sandbox', 'PvP', 'Adventure', 'Action']\n",
            "['Horror', 'Survival Horror', 'Multiplayer', 'Online Co-Op', 'Survival', 'Co-op', 'Gore', 'Stealth', 'Team-Based', 'Blood', 'Third Person']\n",
            "['Open World Survival Craft', 'Sandbox', 'Survival', '2D', 'Multiplayer', 'Adventure', 'Crafting', 'Pixel Graphics', 'Building', 'Co-op']\n",
            "['Post-apocalyptic', 'FPS', 'Open World', 'Story Rich', 'Atmospheric', 'Singleplayer', 'Action', 'First-Person', 'Survival', 'Shooter']\n"
          ]
        }
      ],
      "source": [
        "for g in games:\n",
        "    print(g['game']['tags'])"
      ]
    },
    {
      "cell_type": "code",
      "execution_count": 20,
      "metadata": {
        "colab": {
          "base_uri": "https://localhost:8080/",
          "height": 269
        },
        "id": "D9JJnwleETTW",
        "outputId": "e133de18-8f58-4709-84df-0f268d75d070"
      },
      "outputs": [
        {
          "data": {
            "image/png": "[encoded data removed]",
            "text/plain": [
              "<Figure size 432x288 with 1 Axes>"
            ]
          },
          "metadata": {
            "needs_background": "light"
          },
          "output_type": "display_data"
        }
      ],
      "source": [
        "X = [(avg_relaxing[g], game_mapping[g]['price']) for g in avg_relaxing]\n",
        "x,y = zip(*X)\n",
        "\n",
        "plt.figure()\n",
        "plt.scatter(x, y)\n",
        "plt.show()"
      ]
    },
    {
      "cell_type": "code",
      "execution_count": 21,
      "metadata": {
        "id": "kDYSFo53ETkN"
      },
      "outputs": [
        {
          "data": {
            "image/png": "[encoded data removed]",
            "text/plain": [
              "<Figure size 432x288 with 1 Axes>"
            ]
          },
          "metadata": {
            "needs_background": "light"
          },
          "output_type": "display_data"
        }
      ],
      "source": [
        "X = [(avg_relaxing[g], game_mapping[g]['game']['rating']) for g in avg_relaxing]\n",
        "x,y = zip(*X)\n",
        "\n",
        "plt.figure()\n",
        "plt.scatter(x, y)\n",
        "plt.show()"
      ]
    },
    {
      "cell_type": "code",
      "execution_count": 47,
      "metadata": {},
      "outputs": [
        {
          "data": {
            "text/plain": [
              "[0.26666666666666666,\n",
              " 0.2,\n",
              " 0.6666666666666666,\n",
              " 0.6666666666666666,\n",
              " 0.5333333333333333,\n",
              " 0.13333333333333333,\n",
              " 0.4,\n",
              " 0.13333333333333333,\n",
              " 0.4,\n",
              " 0.4666666666666667,\n",
              " 0.4,\n",
              " 0.4666666666666667,\n",
              " 0.4,\n",
              " 0.4666666666666667,\n",
              " 0.26666666666666666,\n",
              " 0.6666666666666666,\n",
              " 0.5333333333333333,\n",
              " 0.5333333333333333,\n",
              " 0.8,\n",
              " 0.4,\n",
              " 0.5333333333333333,\n",
              " 0.6]"
            ]
          },
          "execution_count": 47,
          "metadata": {},
          "output_type": "execute_result"
        }
      ],
      "source": [
        "classification_questions = [x for x in data.columns if x.endswith('_answer')]\n",
        "\n",
        "positive_rates = []\n",
        "for id, row in data[classification_questions].iterrows():\n",
        "    positive_rates.append(sum(row) / len(row))\n",
        "\n",
        "positive_rates"
      ]
    },
    {
      "cell_type": "code",
      "execution_count": 61,
      "metadata": {},
      "outputs": [
        {
          "data": {
            "text/html": [
              "<div>\n",
              "<style scoped>\n",
              "    .dataframe tbody tr th:only-of-type {\n",
              "        vertical-align: middle;\n",
              "    }\n",
              "\n",
              "    .dataframe tbody tr th {\n",
              "        vertical-align: top;\n",
              "    }\n",
              "\n",
              "    .dataframe thead th {\n",
              "        text-align: right;\n",
              "    }\n",
              "</style>\n",
              "<table border=\"1\" class=\"dataframe\">\n",
              "  <thead>\n",
              "    <tr style=\"text-align: right;\">\n",
              "      <th></th>\n",
              "      <th>video_games_in_free_time</th>\n",
              "      <th>first_video_game</th>\n",
              "      <th>play_regularly</th>\n",
              "      <th>avg_play_time_weekly</th>\n",
              "      <th>games_relieve_stress</th>\n",
              "      <th>games_affect_child_dev</th>\n",
              "    </tr>\n",
              "  </thead>\n",
              "  <tbody>\n",
              "    <tr>\n",
              "      <th>0</th>\n",
              "      <td>1</td>\n",
              "      <td>13</td>\n",
              "      <td>False</td>\n",
              "      <td>4</td>\n",
              "      <td>True</td>\n",
              "      <td>4</td>\n",
              "    </tr>\n",
              "    <tr>\n",
              "      <th>1</th>\n",
              "      <td>1</td>\n",
              "      <td>13</td>\n",
              "      <td>False</td>\n",
              "      <td>4</td>\n",
              "      <td>True</td>\n",
              "      <td>4</td>\n",
              "    </tr>\n",
              "    <tr>\n",
              "      <th>2</th>\n",
              "      <td>0</td>\n",
              "      <td>8</td>\n",
              "      <td>False</td>\n",
              "      <td>4</td>\n",
              "      <td>True</td>\n",
              "      <td>3</td>\n",
              "    </tr>\n",
              "    <tr>\n",
              "      <th>3</th>\n",
              "      <td>1</td>\n",
              "      <td>13</td>\n",
              "      <td>True</td>\n",
              "      <td>4</td>\n",
              "      <td>True</td>\n",
              "      <td>4</td>\n",
              "    </tr>\n",
              "    <tr>\n",
              "      <th>4</th>\n",
              "      <td>2</td>\n",
              "      <td>8</td>\n",
              "      <td>True</td>\n",
              "      <td>10</td>\n",
              "      <td>True</td>\n",
              "      <td>4</td>\n",
              "    </tr>\n",
              "    <tr>\n",
              "      <th>5</th>\n",
              "      <td>1</td>\n",
              "      <td>8</td>\n",
              "      <td>False</td>\n",
              "      <td>0</td>\n",
              "      <td>True</td>\n",
              "      <td>1</td>\n",
              "    </tr>\n",
              "    <tr>\n",
              "      <th>6</th>\n",
              "      <td>1</td>\n",
              "      <td>4</td>\n",
              "      <td>False</td>\n",
              "      <td>4</td>\n",
              "      <td>True</td>\n",
              "      <td>5</td>\n",
              "    </tr>\n",
              "    <tr>\n",
              "      <th>7</th>\n",
              "      <td>1</td>\n",
              "      <td>8</td>\n",
              "      <td>True</td>\n",
              "      <td>4</td>\n",
              "      <td>False</td>\n",
              "      <td>3</td>\n",
              "    </tr>\n",
              "    <tr>\n",
              "      <th>8</th>\n",
              "      <td>1</td>\n",
              "      <td>8</td>\n",
              "      <td>False</td>\n",
              "      <td>4</td>\n",
              "      <td>True</td>\n",
              "      <td>4</td>\n",
              "    </tr>\n",
              "    <tr>\n",
              "      <th>9</th>\n",
              "      <td>2</td>\n",
              "      <td>13</td>\n",
              "      <td>False</td>\n",
              "      <td>0</td>\n",
              "      <td>True</td>\n",
              "      <td>3</td>\n",
              "    </tr>\n",
              "    <tr>\n",
              "      <th>10</th>\n",
              "      <td>2</td>\n",
              "      <td>8</td>\n",
              "      <td>False</td>\n",
              "      <td>4</td>\n",
              "      <td>True</td>\n",
              "      <td>3</td>\n",
              "    </tr>\n",
              "    <tr>\n",
              "      <th>11</th>\n",
              "      <td>-1</td>\n",
              "      <td>17</td>\n",
              "      <td>False</td>\n",
              "      <td>4</td>\n",
              "      <td>True</td>\n",
              "      <td>4</td>\n",
              "    </tr>\n",
              "    <tr>\n",
              "      <th>12</th>\n",
              "      <td>0</td>\n",
              "      <td>4</td>\n",
              "      <td>False</td>\n",
              "      <td>4</td>\n",
              "      <td>True</td>\n",
              "      <td>2</td>\n",
              "    </tr>\n",
              "    <tr>\n",
              "      <th>13</th>\n",
              "      <td>2</td>\n",
              "      <td>8</td>\n",
              "      <td>False</td>\n",
              "      <td>0</td>\n",
              "      <td>True</td>\n",
              "      <td>4</td>\n",
              "    </tr>\n",
              "    <tr>\n",
              "      <th>14</th>\n",
              "      <td>0</td>\n",
              "      <td>4</td>\n",
              "      <td>False</td>\n",
              "      <td>4</td>\n",
              "      <td>True</td>\n",
              "      <td>5</td>\n",
              "    </tr>\n",
              "    <tr>\n",
              "      <th>15</th>\n",
              "      <td>1</td>\n",
              "      <td>8</td>\n",
              "      <td>False</td>\n",
              "      <td>4</td>\n",
              "      <td>True</td>\n",
              "      <td>5</td>\n",
              "    </tr>\n",
              "    <tr>\n",
              "      <th>16</th>\n",
              "      <td>0</td>\n",
              "      <td>13</td>\n",
              "      <td>False</td>\n",
              "      <td>0</td>\n",
              "      <td>True</td>\n",
              "      <td>4</td>\n",
              "    </tr>\n",
              "    <tr>\n",
              "      <th>17</th>\n",
              "      <td>2</td>\n",
              "      <td>8</td>\n",
              "      <td>True</td>\n",
              "      <td>20</td>\n",
              "      <td>True</td>\n",
              "      <td>5</td>\n",
              "    </tr>\n",
              "    <tr>\n",
              "      <th>18</th>\n",
              "      <td>1</td>\n",
              "      <td>13</td>\n",
              "      <td>False</td>\n",
              "      <td>0</td>\n",
              "      <td>True</td>\n",
              "      <td>4</td>\n",
              "    </tr>\n",
              "    <tr>\n",
              "      <th>19</th>\n",
              "      <td>0</td>\n",
              "      <td>13</td>\n",
              "      <td>False</td>\n",
              "      <td>4</td>\n",
              "      <td>False</td>\n",
              "      <td>2</td>\n",
              "    </tr>\n",
              "    <tr>\n",
              "      <th>20</th>\n",
              "      <td>1</td>\n",
              "      <td>8</td>\n",
              "      <td>True</td>\n",
              "      <td>4</td>\n",
              "      <td>True</td>\n",
              "      <td>3</td>\n",
              "    </tr>\n",
              "    <tr>\n",
              "      <th>21</th>\n",
              "      <td>1</td>\n",
              "      <td>8</td>\n",
              "      <td>True</td>\n",
              "      <td>10</td>\n",
              "      <td>True</td>\n",
              "      <td>4</td>\n",
              "    </tr>\n",
              "  </tbody>\n",
              "</table>\n",
              "</div>"
            ],
            "text/plain": [
              "    video_games_in_free_time  first_video_game  play_regularly  \\\n",
              "0                          1                13           False   \n",
              "1                          1                13           False   \n",
              "2                          0                 8           False   \n",
              "3                          1                13            True   \n",
              "4                          2                 8            True   \n",
              "5                          1                 8           False   \n",
              "6                          1                 4           False   \n",
              "7                          1                 8            True   \n",
              "8                          1                 8           False   \n",
              "9                          2                13           False   \n",
              "10                         2                 8           False   \n",
              "11                        -1                17           False   \n",
              "12                         0                 4           False   \n",
              "13                         2                 8           False   \n",
              "14                         0                 4           False   \n",
              "15                         1                 8           False   \n",
              "16                         0                13           False   \n",
              "17                         2                 8            True   \n",
              "18                         1                13           False   \n",
              "19                         0                13           False   \n",
              "20                         1                 8            True   \n",
              "21                         1                 8            True   \n",
              "\n",
              "    avg_play_time_weekly  games_relieve_stress  games_affect_child_dev  \n",
              "0                      4                  True                       4  \n",
              "1                      4                  True                       4  \n",
              "2                      4                  True                       3  \n",
              "3                      4                  True                       4  \n",
              "4                     10                  True                       4  \n",
              "5                      0                  True                       1  \n",
              "6                      4                  True                       5  \n",
              "7                      4                 False                       3  \n",
              "8                      4                  True                       4  \n",
              "9                      0                  True                       3  \n",
              "10                     4                  True                       3  \n",
              "11                     4                  True                       4  \n",
              "12                     4                  True                       2  \n",
              "13                     0                  True                       4  \n",
              "14                     4                  True                       5  \n",
              "15                     4                  True                       5  \n",
              "16                     0                  True                       4  \n",
              "17                    20                  True                       5  \n",
              "18                     0                  True                       4  \n",
              "19                     4                 False                       2  \n",
              "20                     4                  True                       3  \n",
              "21                    10                  True                       4  "
            ]
          },
          "execution_count": 61,
          "metadata": {},
          "output_type": "execute_result"
        }
      ],
      "source": [
        "personal_questions = [\n",
        "    'video_games_in_free_time', \n",
        "    'first_video_game', \n",
        "    'play_regularly', \n",
        "    'avg_play_time_weekly', \n",
        "    'games_relieve_stress',\n",
        "    'games_affect_child_dev'\n",
        "]\n",
        "\n",
        "_data = data.replace({\n",
        "    '0-4 Hours': 4,\n",
        "    '5-10 Hours': 10,\n",
        "    '10-20 Hours': 20,\n",
        "    '21+': 21,\n",
        "    np.nan: 0,\n",
        "    '0-4': 4,\n",
        "    '5-8': 8,\n",
        "    '9-13': 13,\n",
        "    '14-17': 17,\n",
        "    '18+': 18,\n",
        "    'Yes': True,\n",
        "    'No': False\n",
        "})\n",
        "\n",
        "_data[personal_questions]"
      ]
    },
    {
      "cell_type": "code",
      "execution_count": null,
      "metadata": {},
      "outputs": [],
      "source": [
        "plt.figure()\n",
        "plt.scatter(_data.)"
      ]
    }
  ],
  "metadata": {
    "colab": {
      "collapsed_sections": [],
      "name": "steam_scraping_survey.ipynb",
      "provenance": []
    },
    "kernelspec": {
      "display_name": "Python 3",
      "name": "python3"
    },
    "language_info": {
      "codemirror_mode": {
        "name": "ipython",
        "version": 3
      },
      "file_extension": ".py",
      "mimetype": "text/x-python",
      "name": "python",
      "nbconvert_exporter": "python",
      "pygments_lexer": "ipython3",
      "version": "3.10.1"
    }
  },
  "nbformat": 4,
  "nbformat_minor": 0
}
