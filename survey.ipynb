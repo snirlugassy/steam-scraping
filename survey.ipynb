{
  "nbformat": 4,
  "nbformat_minor": 0,
  "metadata": {
    "colab": {
      "name": "steam_scraping_survey.ipynb",
      "provenance": [],
      "collapsed_sections": []
    },
    "kernelspec": {
      "name": "python3",
      "display_name": "Python 3"
    },
    "language_info": {
      "name": "python"
    }
  },
  "cells": [
    {
      "cell_type": "code",
      "execution_count": 87,
      "metadata": {
        "id": "f22SY19ExCqL"
      },
      "outputs": [],
      "source": [
        "import json\n",
        "import re\n",
        "import pandas as pd\n",
        "import numpy as np\n",
        "import matplotlib.pyplot as plt"
      ]
    },
    {
      "cell_type": "code",
      "source": [
        "games = json.load(open('data.json', 'r'))\n",
        "data = pd.read_csv('survey_results.csv')\n",
        "\n",
        "data.rename(columns={\n",
        "    'Submission Date': 'submit_date', \n",
        "    'No Label': 'consent', \n",
        "    'Age': 'age', \n",
        "    'Gender': 'gender', \n",
        "    'Relationship status': 'rel_status',\n",
        "    '\"Video games are a good way to spend your free time\"': 'video_games_in_free_time',\n",
        "    'At what age did you own your first video game?': 'first_video_game',\n",
        "    'Do you play video games regularly?': 'play_regularly',\n",
        "    'If so, how much time on average do you play each week?': 'avg_play_time_weekly',\n",
        "    'Do you think that video games are a good way to relieve stress?': 'games_relieve_stress',\n",
        "    'How do video games affect a child\\'s development?': 'games_affect_child_dev',\n",
        "    'Mount & Blade II: Would you play this game to relax?': 'mount_blade_2_answer',\n",
        "    'TEKKEN 7: Would you play this game to relax?': 'tekken_7_answer',\n",
        "    'Muse Dash: Would you play this game to relax?': 'muse_dash_answer',\n",
        "    'NBA 2K22: Would you play this game to relax?': 'nba_2k22_answer',\n",
        "    'Shadowverse CCG: Would you play this game to relax?': 'shadowverse_ccg_answer',\n",
        "    'Hunt: Showdown: Would you play this game to relax?': 'hunt_showdown_answer',\n",
        "    'BLUE REFLECTION: Would you play this game to relax?': 'blue_reflection_answer',\n",
        "    'A Way Out: Would you play this game to relax?': 'a_way_out_answer',\n",
        "    'Russian Fishing 4: Would you play this game to relax?': 'russian_fishing_4_answer',\n",
        "    'The Sims 4: Would you play this game to relax?': 'the_sims_4_answer',\n",
        "    'Fall Guys: Would you play this game to relax?': 'fall_guys_answer',\n",
        "    'Rust: Would you play this game to relax?': 'rust_answer',\n",
        "    'Dead by Daylight: Would you play this game to relax?': 'dead_by_daylight_answer',\n",
        "    'Terraria: Would you play this game to relax?': 'terraria_answer',\n",
        "    'Metro Exodus: Would you play this game to relax?': 'metro_exodus_answer'\n",
        "}, inplace=True)\n",
        "\n",
        "data.head(2)"
      ],
      "metadata": {
        "id": "pmUPru3RxSOU",
        "outputId": "6490d160-75be-4388-e769-768726f27c2b",
        "colab": {
          "base_uri": "https://localhost:8080/",
          "height": 384
        }
      },
      "execution_count": 99,
      "outputs": [
        {
          "output_type": "execute_result",
          "data": {
            "text/html": [
              "\n",
              "  <div id=\"df-bb5a2889-8810-453a-b147-a416bea837c2\">\n",
              "    <div class=\"colab-df-container\">\n",
              "      <div>\n",
              "<style scoped>\n",
              "    .dataframe tbody tr th:only-of-type {\n",
              "        vertical-align: middle;\n",
              "    }\n",
              "\n",
              "    .dataframe tbody tr th {\n",
              "        vertical-align: top;\n",
              "    }\n",
              "\n",
              "    .dataframe thead th {\n",
              "        text-align: right;\n",
              "    }\n",
              "</style>\n",
              "<table border=\"1\" class=\"dataframe\">\n",
              "  <thead>\n",
              "    <tr style=\"text-align: right;\">\n",
              "      <th></th>\n",
              "      <th>submit_date</th>\n",
              "      <th>consent</th>\n",
              "      <th>age</th>\n",
              "      <th>gender</th>\n",
              "      <th>rel_status</th>\n",
              "      <th>video_games_in_free_time</th>\n",
              "      <th>first_video_game</th>\n",
              "      <th>play_regularly</th>\n",
              "      <th>avg_play_time_weekly</th>\n",
              "      <th>games_relieve_stress</th>\n",
              "      <th>games_affect_child_dev</th>\n",
              "      <th>mount_blade_2_answer</th>\n",
              "      <th>tekken_7_answer</th>\n",
              "      <th>muse_dash_answer</th>\n",
              "      <th>nba_2k22_answer</th>\n",
              "      <th>shadowverse_ccg_answer</th>\n",
              "      <th>hunt_showdown_answer</th>\n",
              "      <th>blue_reflection_answer</th>\n",
              "      <th>a_way_out_answer</th>\n",
              "      <th>russian_fishing_4_answer</th>\n",
              "      <th>the_sims_4_answer</th>\n",
              "      <th>fall_guys_answer</th>\n",
              "      <th>rust_answer</th>\n",
              "      <th>dead_by_daylight_answer</th>\n",
              "      <th>terraria_answer</th>\n",
              "      <th>metro_exodus_answer</th>\n",
              "    </tr>\n",
              "  </thead>\n",
              "  <tbody>\n",
              "    <tr>\n",
              "      <th>0</th>\n",
              "      <td>2022/01/07 17:34:33</td>\n",
              "      <td>I have read the above disclaimer and agree to ...</td>\n",
              "      <td>24.0</td>\n",
              "      <td>Male</td>\n",
              "      <td>Other / Prefer not to disclose</td>\n",
              "      <td>1</td>\n",
              "      <td>9-13</td>\n",
              "      <td>No</td>\n",
              "      <td>0-4 Hours</td>\n",
              "      <td>Yes</td>\n",
              "      <td>4</td>\n",
              "      <td>No</td>\n",
              "      <td>No</td>\n",
              "      <td>No</td>\n",
              "      <td>Yes</td>\n",
              "      <td>No</td>\n",
              "      <td>No</td>\n",
              "      <td>Yes</td>\n",
              "      <td>No</td>\n",
              "      <td>Yes</td>\n",
              "      <td>Yes</td>\n",
              "      <td>No</td>\n",
              "      <td>No</td>\n",
              "      <td>No</td>\n",
              "      <td>No</td>\n",
              "      <td>No</td>\n",
              "    </tr>\n",
              "    <tr>\n",
              "      <th>1</th>\n",
              "      <td>2022/01/07 17:31:18</td>\n",
              "      <td>I have read the above disclaimer and agree to ...</td>\n",
              "      <td>24.0</td>\n",
              "      <td>Male</td>\n",
              "      <td>Single</td>\n",
              "      <td>1</td>\n",
              "      <td>9-13</td>\n",
              "      <td>No</td>\n",
              "      <td>0-4 Hours</td>\n",
              "      <td>Yes</td>\n",
              "      <td>4</td>\n",
              "      <td>No</td>\n",
              "      <td>Yes</td>\n",
              "      <td>No</td>\n",
              "      <td>Yes</td>\n",
              "      <td>No</td>\n",
              "      <td>No</td>\n",
              "      <td>No</td>\n",
              "      <td>No</td>\n",
              "      <td>No</td>\n",
              "      <td>No</td>\n",
              "      <td>No</td>\n",
              "      <td>Yes</td>\n",
              "      <td>No</td>\n",
              "      <td>No</td>\n",
              "      <td>No</td>\n",
              "    </tr>\n",
              "  </tbody>\n",
              "</table>\n",
              "</div>\n",
              "      <button class=\"colab-df-convert\" onclick=\"convertToInteractive('df-bb5a2889-8810-453a-b147-a416bea837c2')\"\n",
              "              title=\"Convert this dataframe to an interactive table.\"\n",
              "              style=\"display:none;\">\n",
              "        \n",
              "  <svg xmlns=\"http://www.w3.org/2000/svg\" height=\"24px\"viewBox=\"0 0 24 24\"\n",
              "       width=\"24px\">\n",
              "    <path d=\"M0 0h24v24H0V0z\" fill=\"none\"/>\n",
              "    <path d=\"M18.56 5.44l.94 2.06.94-2.06 2.06-.94-2.06-.94-.94-2.06-.94 2.06-2.06.94zm-11 1L8.5 8.5l.94-2.06 2.06-.94-2.06-.94L8.5 2.5l-.94 2.06-2.06.94zm10 10l.94 2.06.94-2.06 2.06-.94-2.06-.94-.94-2.06-.94 2.06-2.06.94z\"/><path d=\"M17.41 7.96l-1.37-1.37c-.4-.4-.92-.59-1.43-.59-.52 0-1.04.2-1.43.59L10.3 9.45l-7.72 7.72c-.78.78-.78 2.05 0 2.83L4 21.41c.39.39.9.59 1.41.59.51 0 1.02-.2 1.41-.59l7.78-7.78 2.81-2.81c.8-.78.8-2.07 0-2.86zM5.41 20L4 18.59l7.72-7.72 1.47 1.35L5.41 20z\"/>\n",
              "  </svg>\n",
              "      </button>\n",
              "      \n",
              "  <style>\n",
              "    .colab-df-container {\n",
              "      display:flex;\n",
              "      flex-wrap:wrap;\n",
              "      gap: 12px;\n",
              "    }\n",
              "\n",
              "    .colab-df-convert {\n",
              "      background-color: #E8F0FE;\n",
              "      border: none;\n",
              "      border-radius: 50%;\n",
              "      cursor: pointer;\n",
              "      display: none;\n",
              "      fill: #1967D2;\n",
              "      height: 32px;\n",
              "      padding: 0 0 0 0;\n",
              "      width: 32px;\n",
              "    }\n",
              "\n",
              "    .colab-df-convert:hover {\n",
              "      background-color: #E2EBFA;\n",
              "      box-shadow: 0px 1px 2px rgba(60, 64, 67, 0.3), 0px 1px 3px 1px rgba(60, 64, 67, 0.15);\n",
              "      fill: #174EA6;\n",
              "    }\n",
              "\n",
              "    [theme=dark] .colab-df-convert {\n",
              "      background-color: #3B4455;\n",
              "      fill: #D2E3FC;\n",
              "    }\n",
              "\n",
              "    [theme=dark] .colab-df-convert:hover {\n",
              "      background-color: #434B5C;\n",
              "      box-shadow: 0px 1px 3px 1px rgba(0, 0, 0, 0.15);\n",
              "      filter: drop-shadow(0px 1px 2px rgba(0, 0, 0, 0.3));\n",
              "      fill: #FFFFFF;\n",
              "    }\n",
              "  </style>\n",
              "\n",
              "      <script>\n",
              "        const buttonEl =\n",
              "          document.querySelector('#df-bb5a2889-8810-453a-b147-a416bea837c2 button.colab-df-convert');\n",
              "        buttonEl.style.display =\n",
              "          google.colab.kernel.accessAllowed ? 'block' : 'none';\n",
              "\n",
              "        async function convertToInteractive(key) {\n",
              "          const element = document.querySelector('#df-bb5a2889-8810-453a-b147-a416bea837c2');\n",
              "          const dataTable =\n",
              "            await google.colab.kernel.invokeFunction('convertToInteractive',\n",
              "                                                     [key], {});\n",
              "          if (!dataTable) return;\n",
              "\n",
              "          const docLinkHtml = 'Like what you see? Visit the ' +\n",
              "            '<a target=\"_blank\" href=https://colab.research.google.com/notebooks/data_table.ipynb>data table notebook</a>'\n",
              "            + ' to learn more about interactive tables.';\n",
              "          element.innerHTML = '';\n",
              "          dataTable['output_type'] = 'display_data';\n",
              "          await google.colab.output.renderOutput(dataTable, element);\n",
              "          const docLink = document.createElement('div');\n",
              "          docLink.innerHTML = docLinkHtml;\n",
              "          element.appendChild(docLink);\n",
              "        }\n",
              "      </script>\n",
              "    </div>\n",
              "  </div>\n",
              "  "
            ],
            "text/plain": [
              "           submit_date  ... metro_exodus_answer\n",
              "0  2022/01/07 17:34:33  ...                  No\n",
              "1  2022/01/07 17:31:18  ...                  No\n",
              "\n",
              "[2 rows x 26 columns]"
            ]
          },
          "metadata": {},
          "execution_count": 99
        }
      ]
    },
    {
      "cell_type": "code",
      "source": [
        "_game_name = {\n",
        "    'mount_blade_2': 'Mount & Blade II: Bannerlord',\n",
        "    'tekken_7': 'TEKKEN 7',\n",
        "    'muse_dash': 'Muse Dash',\n",
        "    'nba_2k22': 'NBA 2K22',\n",
        "    'shadowverse_ccg': 'Shadowverse CCG',\n",
        "    'hunt_showdown': 'Hunt: Showdown',\n",
        "    'blue_reflection': 'BLUE REFLECTION: Second Light',\n",
        "    'a_way_out': 'A Way Out',\n",
        "    'russian_fishing_4': 'Russian Fishing 4',\n",
        "    'the_sims_4': 'The Sims 4',\n",
        "    'fall_guys': 'Fall Guys: Ultimate Knockout',\n",
        "    'rust': 'Rust',\n",
        "    'dead_by_daylight': 'Dead by Daylight',\n",
        "    'terraria': 'Terraria',\n",
        "    'metro_exodus': 'Metro Exodus'\n",
        "}\n",
        "\n",
        "game_mapping = {}\n",
        "for k,g in _game_name.items():\n",
        "    game_mapping[k] = [x for x in games if x['game']['title'].lower() == g.lower()][0]"
      ],
      "metadata": {
        "id": "XcrlqAeb92aC"
      },
      "execution_count": 106,
      "outputs": []
    },
    {
      "cell_type": "code",
      "source": [
        "plt.figure()\n",
        "plt.title('Age Histogram')\n",
        "plt.hist(data.age, bins=5)\n",
        "plt.xlabel('Age')\n",
        "plt.show()"
      ],
      "metadata": {
        "id": "06l51LfQxSTU",
        "colab": {
          "base_uri": "https://localhost:8080/",
          "height": 295
        },
        "outputId": "5a0745cc-0758-4753-8e50-c0306b460a78"
      },
      "execution_count": 49,
      "outputs": [
        {
          "output_type": "display_data",
          "data": {
            "image/png": "[encoded data removed]",
            "text/plain": [
              "<Figure size 432x288 with 1 Axes>"
            ]
          },
          "metadata": {
            "needs_background": "light"
          }
        }
      ]
    },
    {
      "cell_type": "code",
      "source": [
        "genders = data.gender.value_counts().to_dict()\n",
        "plt.figure()\n",
        "plt.title(\"Genders\")\n",
        "plt.yticks(range(0,22,2))\n",
        "plt.bar(genders.keys(), genders.values())\n",
        "plt.show()"
      ],
      "metadata": {
        "id": "7L0pzVU3xSVy",
        "colab": {
          "base_uri": "https://localhost:8080/",
          "height": 281
        },
        "outputId": "ca1006ab-cb14-403e-dbf0-c291d567888d"
      },
      "execution_count": 50,
      "outputs": [
        {
          "output_type": "display_data",
          "data": {
            "image/png": "[encoded data removed]",
            "text/plain": [
              "<Figure size 432x288 with 1 Axes>"
            ]
          },
          "metadata": {
            "needs_background": "light"
          }
        }
      ]
    },
    {
      "cell_type": "code",
      "source": [
        "relationship_status = data.rel_status.value_counts().to_dict()\n",
        "plt.figure()\n",
        "plt.title(\"Relationship Status\")\n",
        "plt.bar(relationship_status.keys(), relationship_status.values())\n",
        "plt.show()"
      ],
      "metadata": {
        "colab": {
          "base_uri": "https://localhost:8080/",
          "height": 281
        },
        "id": "vv2r7Nl81J94",
        "outputId": "9a85c089-aff8-4518-963a-c50e93b25271"
      },
      "execution_count": 51,
      "outputs": [
        {
          "output_type": "display_data",
          "data": {
            "image/png": "[encoded data removed]",
            "text/plain": [
              "<Figure size 432x288 with 1 Axes>"
            ]
          },
          "metadata": {
            "needs_background": "light"
          }
        }
      ]
    },
    {
      "cell_type": "code",
      "source": [
        "video_games_in_free_time = data.video_games_in_free_time.value_counts().to_dict()\n",
        "plt.figure()\n",
        "plt.title(\"Video games are a good way to spend your free time?\")\n",
        "plt.xticks([-2,-1,0,1,2])\n",
        "plt.xlabel('-2=Strongly Disagee, 2=Strongly Agree')\n",
        "plt.bar(video_games_in_free_time.keys(), video_games_in_free_time.values())\n",
        "plt.show()"
      ],
      "metadata": {
        "colab": {
          "base_uri": "https://localhost:8080/",
          "height": 295
        },
        "id": "xx72f0Sh1kcT",
        "outputId": "478ca1f7-4baf-4b9a-9b04-69b0aaa04211"
      },
      "execution_count": 97,
      "outputs": [
        {
          "output_type": "display_data",
          "data": {
            "image/png": "[encoded data removed]",
            "text/plain": [
              "<Figure size 432x288 with 1 Axes>"
            ]
          },
          "metadata": {
            "needs_background": "light"
          }
        }
      ]
    },
    {
      "cell_type": "code",
      "source": [
        "first_video_game_age_range = sorted(data.first_video_game, key=lambda x: int(re.match('\\d+',x).group(0)))\n",
        "plt.figure()\n",
        "plt.title(\"At what age did you own your first video game?\")\n",
        "plt.xlabel('Age')\n",
        "plt.hist(first_video_game_age_range)\n",
        "plt.show()"
      ],
      "metadata": {
        "colab": {
          "base_uri": "https://localhost:8080/",
          "height": 295
        },
        "id": "KUQnX3cC4t77",
        "outputId": "bf565432-d493-44a3-993b-2e746fcf47bc"
      },
      "execution_count": 94,
      "outputs": [
        {
          "output_type": "display_data",
          "data": {
            "image/png": "[encoded data removed]",
            "text/plain": [
              "<Figure size 432x288 with 1 Axes>"
            ]
          },
          "metadata": {
            "needs_background": "light"
          }
        }
      ]
    },
    {
      "cell_type": "code",
      "source": [
        "play_video_games = data.video_games_in_free_time.value_counts().to_dict()\n",
        "plt.figure()\n",
        "plt.title(\"Video games are a good way to spend your free time?\")\n",
        "plt.xticks([-2,-1,0,1,2])\n",
        "plt.bar(play_video_games.keys(), play_video_games.values())\n",
        "plt.show()"
      ],
      "metadata": {
        "id": "Dh4YTO1h4uEc"
      },
      "execution_count": null,
      "outputs": []
    },
    {
      "cell_type": "code",
      "source": [
        "play_regularly = data.play_regularly.value_counts().to_dict()\n",
        "plt.figure()\n",
        "plt.title(\"Do you play video games regularly?\")\n",
        "plt.yticks(range(0,22,2))\n",
        "plt.bar(play_regularly.keys(), play_regularly.values())\n",
        "plt.show()"
      ],
      "metadata": {
        "colab": {
          "base_uri": "https://localhost:8080/",
          "height": 281
        },
        "id": "2ylmENTQ4PvB",
        "outputId": "c51d41d8-22a8-45f1-dfa3-a3dd29382060"
      },
      "execution_count": 102,
      "outputs": [
        {
          "output_type": "display_data",
          "data": {
            "image/png": "[encoded data removed]",
            "text/plain": [
              "<Figure size 432x288 with 1 Axes>"
            ]
          },
          "metadata": {
            "needs_background": "light"
          }
        }
      ]
    },
    {
      "cell_type": "code",
      "source": [
        "avg_play_time_weekly = sorted(data.avg_play_time_weekly.dropna(), key=lambda x: int(re.match('\\d+',x).group(0)))\n",
        "plt.figure()\n",
        "plt.title(\"If so, how much time on average do you play each week?\")\n",
        "plt.hist(avg_play_time_weekly)\n",
        "plt.show()"
      ],
      "metadata": {
        "colab": {
          "base_uri": "https://localhost:8080/",
          "height": 281
        },
        "id": "qR0vt7NX6IYM",
        "outputId": "b20ef2d8-e63f-48df-b2f0-b5b188e068b5"
      },
      "execution_count": 101,
      "outputs": [
        {
          "output_type": "display_data",
          "data": {
            "image/png": "[encoded data removed]",
            "text/plain": [
              "<Figure size 432x288 with 1 Axes>"
            ]
          },
          "metadata": {
            "needs_background": "light"
          }
        }
      ]
    },
    {
      "cell_type": "code",
      "source": [
        "games_relieve_stress = data.games_relieve_stress.value_counts().to_dict()\n",
        "plt.figure()\n",
        "plt.title(\"Do you think that video games are a good way to relieve stress?\")\n",
        "plt.yticks(range(0,22,2))\n",
        "plt.bar(games_relieve_stress.keys(), games_relieve_stress.values())\n",
        "plt.show()"
      ],
      "metadata": {
        "colab": {
          "base_uri": "https://localhost:8080/",
          "height": 281
        },
        "id": "6Kgdj3Vx7BZL",
        "outputId": "97199802-9f15-4730-d70f-a05fbfbd5463"
      },
      "execution_count": 96,
      "outputs": [
        {
          "output_type": "display_data",
          "data": {
            "image/png": "[encoded data removed]",
            "text/plain": [
              "<Figure size 432x288 with 1 Axes>"
            ]
          },
          "metadata": {
            "needs_background": "light"
          }
        }
      ]
    },
    {
      "cell_type": "code",
      "source": [
        "games_affect_child_dev = data.games_affect_child_dev.value_counts().to_dict()\n",
        "plt.figure()\n",
        "plt.title(\"How do video games affect a child's development?\")\n",
        "plt.xticks([1,2,3,4,5])\n",
        "plt.xlabel('1=Harm, 5=Contribute')\n",
        "plt.bar(games_affect_child_dev.keys(), games_affect_child_dev.values())\n",
        "plt.show()"
      ],
      "metadata": {
        "colab": {
          "base_uri": "https://localhost:8080/",
          "height": 295
        },
        "id": "C54mlvgg7Bet",
        "outputId": "747993b7-f96b-4976-cebb-dc06896e068b"
      },
      "execution_count": 100,
      "outputs": [
        {
          "output_type": "display_data",
          "data": {
            "image/png": "[encoded data removed]",
            "text/plain": [
              "<Figure size 432x288 with 1 Axes>"
            ]
          },
          "metadata": {
            "needs_background": "light"
          }
        }
      ]
    },
    {
      "cell_type": "code",
      "source": [
        "data.replace('Yes', True, inplace=True)\n",
        "data.replace('No', False, inplace=True)\n",
        "\n",
        "avg_relaxing = {}\n",
        "for g in game_mapping:\n",
        "    avg_relaxing[g] = data[g + \"_answer\"].mean()\n",
        "avg_relaxing"
      ],
      "metadata": {
        "colab": {
          "base_uri": "https://localhost:8080/"
        },
        "id": "dd7TGqGR7BiC",
        "outputId": "b6538bf6-defb-4a45-d1ea-55966dc181dd"
      },
      "execution_count": 129,
      "outputs": [
        {
          "output_type": "execute_result",
          "data": {
            "text/plain": [
              "{'a_way_out': 0.45454545454545453,\n",
              " 'blue_reflection': 0.45454545454545453,\n",
              " 'dead_by_daylight': 0.09090909090909091,\n",
              " 'fall_guys': 0.5909090909090909,\n",
              " 'hunt_showdown': 0.2727272727272727,\n",
              " 'metro_exodus': 0.36363636363636365,\n",
              " 'mount_blade_2': 0.5454545454545454,\n",
              " 'muse_dash': 0.2727272727272727,\n",
              " 'nba_2k22': 0.6363636363636364,\n",
              " 'russian_fishing_4': 0.6818181818181818,\n",
              " 'rust': 0.4090909090909091,\n",
              " 'shadowverse_ccg': 0.22727272727272727,\n",
              " 'tekken_7': 0.36363636363636365,\n",
              " 'terraria': 0.7727272727272727,\n",
              " 'the_sims_4': 0.6363636363636364}"
            ]
          },
          "metadata": {},
          "execution_count": 129
        }
      ]
    }
  ]
}